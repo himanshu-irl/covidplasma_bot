{
 "cells": [
  {
   "cell_type": "code",
   "execution_count": 4,
   "metadata": {},
   "outputs": [
    {
     "name": "stdout",
     "output_type": "stream",
     "text": [
      "Requirement already satisfied: Pillow in c:\\programdata\\anaconda3\\lib\\site-packages (8.0.1)\n"
     ]
    }
   ],
   "source": []
  },
  {
   "cell_type": "code",
   "execution_count": 1,
   "metadata": {},
   "outputs": [],
   "source": [
    "img_path = r\"C:\\Users\\hverm\\root\\projects\\PyTwitterBot\\covidplasma_bot\\archive\\twitter-posts\\TSI verified template.png\""
   ]
  },
  {
   "cell_type": "code",
   "execution_count": 18,
   "metadata": {},
   "outputs": [],
   "source": [
    "from PIL import Image\n",
    "from PIL import ImageFont\n",
    "from PIL import ImageDraw \n",
    "import textwrap\n",
    "\n",
    "img = Image.open(img_path)\n",
    "draw = ImageDraw.Draw(img)\n",
    "# font = ImageFont.truetype(<font-file>, <font-size>)\n",
    "# If a font is already installed in your system, you can \n",
    "# just give its name\n",
    "font_path = r\"C:\\Users\\hverm\\root\\projects\\PyTwitterBot\\covidplasma_bot\\archive\\twitter-posts\\Barlow-Medium.ttf\"\n",
    "# draw.text((x, y),\"Sample Text\",(r,g,b))\n",
    "# x, y is the top-left coordinate\n",
    "#draw.text((0, 0),\"Hello world\",(255,255,255),font=font)\n",
    "#img.save('TSI_verified_post_new.png')\n",
    "\n",
    "info_txt_1 = 'Oxygen refilling available from 10am 8/5/21'\n",
    "info_txt_2 = 'Rs.400 for small cylinder'\n",
    "info_txt_3 = 'Rs.600 for big cylinder'\n",
    "info_txt_4 = 'Patient aadhar and reports needed'\n",
    "dtm_txt = 'Verified at 11:40 am, 27/4/2021'\n",
    "place_txt = 'Place: Kalindi Hospital'\n",
    "contact_txt = 'Contact: 08006152108'\n"
   ]
  },
  {
   "cell_type": "code",
   "execution_count": 112,
   "metadata": {},
   "outputs": [],
   "source": [
    "W, H = img.size"
   ]
  },
  {
   "cell_type": "code",
   "execution_count": 176,
   "metadata": {},
   "outputs": [],
   "source": [
    "w, h = draw.textsize(dtm_txt)\n",
    "draw.text((W/2,550), dtm_txt, font=font_dtm, align='center', fill=(37,30,96), anchor='mm')\n",
    "\n",
    "margin = offset = 700\n",
    "for line in textwrap.wrap(info_txt, width=40):\n",
    "#     draw.text((margin, offset), line, font=font, fill=\"#aa0000\")\n",
    "    draw.text((W/2, offset), line, font = font, align =\"center\", fill = (37,30,96), anchor='mm')\n",
    "    offset += font.getsize(line)[1]\n",
    "\n",
    "w, h = draw.textsize(place_txt)\n",
    "draw.text((W/2,1350), place_txt, font=font, fill=(37,30,96), anchor='mm')\n",
    "w, h = draw.textsize(contact_txt)\n",
    "draw.text((W/2,1480), contact_txt, font=font, align='center', fill=(37,30,96), anchor='mm')\n",
    "\n",
    "\n",
    "img.show()"
   ]
  },
  {
   "cell_type": "code",
   "execution_count": 19,
   "metadata": {},
   "outputs": [],
   "source": [
    "def txt_insert(draw\n",
    "               ,txt\n",
    "               ,width\n",
    "               ,offset\n",
    "               ,font\n",
    "               ,img_width):\n",
    "    for line in textwrap.wrap(txt, width=width):\n",
    "#         draw.text((margin, offset), line, font=font, fill=\"#aa0000\")\n",
    "        draw.text((img_width/2, offset), line, font = font, align =\"center\", fill = (37,30,96), anchor='mm')\n",
    "        offset += font.getsize(line)[1]\n",
    "    \n",
    "    return offset"
   ]
  },
  {
   "cell_type": "code",
   "execution_count": 20,
   "metadata": {},
   "outputs": [],
   "source": [
    "def create_img(img\n",
    "               ,draw\n",
    "               ,info_txt_1\n",
    "               ,info_txt_2\n",
    "               ,info_txt_3\n",
    "               ,info_txt_4\n",
    "               ,dtm_txt\n",
    "               ,place_txt\n",
    "               ,contact_txt\n",
    "               ,offset\n",
    "               ,width\n",
    "               ,font_path):\n",
    "    \n",
    "    img = Image.open(img_path)\n",
    "    draw = ImageDraw.Draw(img)\n",
    "    \n",
    "    # If a font is already installed in your system, you can \n",
    "    # just give its name\n",
    "    font_body = ImageFont.truetype(font_path, 100)\n",
    "    font_head = ImageFont.truetype(font_path, 120)\n",
    "    \n",
    "    W, H = img.size\n",
    "    body_txt_ls = [info_txt_1, info_txt_2, info_txt_3, info_txt_4, place_txt, contact_txt]\n",
    "    \n",
    "    # formatting dtm_txt\n",
    "    w, h = draw.textsize(dtm_txt)\n",
    "    draw.text((W/2,550), dtm_txt, font=font_head, align='center', fill=(37,30,96), anchor='mm')\n",
    "    \n",
    "    # formatting\n",
    "    count=1\n",
    "    for item in body_txt_ls:\n",
    "        if len(item.replace(' ','')) > 0:\n",
    "            offset = txt_insert(draw, item, width, offset, font_body, img_width=W)\n",
    "        else:\n",
    "            \n",
    "        if count==4:\n",
    "            offset+=100\n",
    "        count+=1\n",
    "    img.show()"
   ]
  },
  {
   "cell_type": "code",
   "execution_count": 21,
   "metadata": {},
   "outputs": [],
   "source": [
    "create_img(img\n",
    "               ,draw\n",
    "               ,info_txt_1\n",
    "               ,info_txt_2\n",
    "               ,info_txt_3\n",
    "               ,info_txt_4\n",
    "               ,dtm_txt\n",
    "               ,place_txt\n",
    "               ,contact_txt\n",
    "               ,offset=700\n",
    "               ,width=40\n",
    "               ,font_path=font_path)"
   ]
  },
  {
   "cell_type": "code",
   "execution_count": 21,
   "metadata": {},
   "outputs": [],
   "source": [
    "img.save('TSI_verified_post_new_s5.png')"
   ]
  },
  {
   "cell_type": "code",
   "execution_count": 16,
   "metadata": {},
   "outputs": [
    {
     "data": {
      "text/plain": [
       "(2160, 2160)"
      ]
     },
     "execution_count": 16,
     "metadata": {},
     "output_type": "execute_result"
    }
   ],
   "source": [
    "img.size"
   ]
  },
  {
   "cell_type": "code",
   "execution_count": 39,
   "metadata": {},
   "outputs": [],
   "source": [
    "\n",
    "\n",
    "\n"
   ]
  }
 ],
 "metadata": {
  "kernelspec": {
   "display_name": "Python 3",
   "language": "python",
   "name": "python3"
  },
  "language_info": {
   "codemirror_mode": {
    "name": "ipython",
    "version": 3
   },
   "file_extension": ".py",
   "mimetype": "text/x-python",
   "name": "python",
   "nbconvert_exporter": "python",
   "pygments_lexer": "ipython3",
   "version": "3.8.5"
  }
 },
 "nbformat": 4,
 "nbformat_minor": 4
}
